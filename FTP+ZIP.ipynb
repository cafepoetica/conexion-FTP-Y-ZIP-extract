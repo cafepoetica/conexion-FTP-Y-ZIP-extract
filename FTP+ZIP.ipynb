{
 "cells": [
  {
   "cell_type": "code",
   "execution_count": null,
   "id": "020d6e23",
   "metadata": {},
   "outputs": [],
   "source": [
    "#Conexion a FTP y extraccion de la carpeta\n",
    "  \n",
    "HOSTNAME = \"\"\n",
    "USERNAME = \"\"\n",
    "PASSWORD = \"\"\n",
    "#Conectar al servidor\n",
    "\n",
    "FILENAME = ''   #Nombre del archivo\n",
    "with ftplib.FTP(HOSTNAME, USERNAME, PASSWORD) as ftp:\n",
    "    ftp.cwd('') #Nombre de la carpeta\n",
    "    with open(FILENAME, 'wb') as f:\n",
    "        ftp.retrbinary('RETR ' + FILENAME, f.write) #Se descarga en tu path\n",
    "\n",
    "#Extraccion de la carpeta .zip\n",
    "ruta_zip = \"\" #path\n",
    "ruta_extraccion = \"\"#Donde quieres que se extraiga\n",
    "password = None\n",
    "archivo_zip = zipfile.ZipFile(ruta_zip,\"r\")\n",
    "try:\n",
    "    archivo_zip.extractall(pwd=None, path=ruta_extraccion)\n",
    "except:\n",
    "    pass\n",
    "archivo_zip.close()"
   ]
  }
 ],
 "metadata": {
  "kernelspec": {
   "display_name": "Python 3",
   "language": "python",
   "name": "python3"
  },
  "language_info": {
   "codemirror_mode": {
    "name": "ipython",
    "version": 3
   },
   "file_extension": ".py",
   "mimetype": "text/x-python",
   "name": "python",
   "nbconvert_exporter": "python",
   "pygments_lexer": "ipython3",
   "version": "3.8.8"
  }
 },
 "nbformat": 4,
 "nbformat_minor": 5
}
